{
 "cells": [
  {
   "cell_type": "markdown",
   "metadata": {},
   "source": [
    "<h1 align=center><font size = 5> Data science project - Best location for a new restaurant in Paris ? </font></h1>\n",
    "\n",
    "<h2 align=center><font size = 4>Manda RAZAFIMANANTSOA </font></h2>\n",
    "\n",
    "\n",
    "<h3 align=center><font size = 2> March 28, 2021 </font></h3>\n",
    "\n",
    "## 1.\tIntroduction\n",
    "\n",
    "### 1.1.\tProblem and interest \n",
    "\n",
    "A multinational entrepreneur decided to open a new gastronomic restaurant in Paris. Paris is the capital and most populous city of France with an estimated population of 12 millions as of 2018. \n",
    "\n",
    "Creating a new restaurant in the capital is a big decision and requires much preparation and a strong business study from the entrepreneur. \n",
    "\n",
    "This project will help the entrepreneur to find the optimal location (or group of location) to build up his business.\n",
    "\n",
    "\n",
    "### 1.2.\tMethodology\n",
    "\n",
    "The aim of the analysis is to hihglight the best gastronomical and touristic location in order to make valuable suggestion to the entrepreneur. To do that, we will use machine learning K-Means algorithm to divide Paris into several clusters and give a form of \"rating\" from the most to the least interesting regions where to start a restaurant business. \n",
    "\n",
    "But just prior to this, we will first explore Paris and its departments, get all venues informations (data) per department and neighborhood. This will help us to easily highlights the most visited and gastronomical area. \n",
    "\n",
    "## 2.\tData acquisition\n",
    "\n",
    "\n",
    "All Geographical coordinates of Paris departments will be downloaded here: https://www.data.gouv.fr/fr/datasets/geofla-departements-idf/#_. We will create a table containing each district as row whereas longitud and latitud as columns. \n",
    "\n",
    "\n",
    "In the next step, we collect venues for each department (listed in the table mentionned above) and see which venues are the most common. In this step, we will use Foursquare API to collect all data regarding venues (name, category, GPS coordinates, ratings and even photos). After collecting the data and organising into a pandas dataframe, we will have a table that show the top 10 venues for each department. \n",
    "\n",
    "The last task is to use unsupervised machine learning techniques to cluster them according to the most common venues and visualize all clusers using Folio library (Folium.map). \n",
    "\n",
    "\n",
    "\n",
    "\n",
    "\n"
   ]
  },
  {
   "cell_type": "code",
   "execution_count": null,
   "metadata": {},
   "outputs": [],
   "source": []
  }
 ],
 "metadata": {
  "kernelspec": {
   "display_name": "Python",
   "language": "python",
   "name": "conda-env-python-py"
  },
  "language_info": {
   "codemirror_mode": {
    "name": "ipython",
    "version": 3
   },
   "file_extension": ".py",
   "mimetype": "text/x-python",
   "name": "python",
   "nbconvert_exporter": "python",
   "pygments_lexer": "ipython3",
   "version": "3.6.12"
  }
 },
 "nbformat": 4,
 "nbformat_minor": 4
}
