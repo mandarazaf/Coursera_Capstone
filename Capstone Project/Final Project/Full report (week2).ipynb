{
 "cells": [
  {
   "cell_type": "markdown",
   "metadata": {},
   "source": [
    "<h1 align=center><font size = 5> Data science project - Best location for a new restaurant in Paris ? </font></h1>\n",
    "\n",
    "<h2 align=center><font size = 4>Manda RAZAFIMANANTSOA </font></h2>\n",
    "\n",
    "\n",
    "<h3 align=center><font size = 2> March 28, 2021 </font></h3>\n",
    "\n",
    "## 1.\tIntroduction\n",
    "\n",
    "### 1.1.\tProblem and interest </br>\n",
    "\n",
    "A multinational entrepreneur decided to open a new gastronomic restaurant in Paris. Paris is the capital and most populous city of France with an estimated population of 12 millions as of 2018. \n",
    "\n",
    "Creating a new restaurant in the capital is a big decision and requires much preparation and a strong business study from the entrepreneur. \n",
    "\n",
    "This project will help the entrepreneur to find the optimal location (or group of location) to build up his business.\n",
    "\n",
    "\n",
    "### 1.2.\tMethodology\n",
    "\n",
    "The aim of the analysis is to hihglight the best gastronomical and touristic location in order to make valuable suggestion to the entrepreneur. To do that, we will use machine learning K-Means algorithm to divide Paris into several clusters and give a form of \"rating\" from the most to the least interesting regions where to start a restaurant business. \n",
    "\n",
    "But just prior to this, we will first explore Paris and its departments, get all venues informations (data) per department and neighborhood. This will help us to easily highlights the most visited and gastronomical area. \n",
    "\n",
    "## 2.\tData acquisition\n",
    "\n",
    "\n",
    "All Geographical coordinates of Paris departments will be downloaded here: https://www.data.gouv.fr/fr/datasets/geofla-departements-idf/#_. We will create a table containing each district as row whereas longitud and latitud as columns. \n",
    "\n",
    "\n",
    "In the next step, we collect venues for each department (listed in the table mentionned above) and see which venues are the most common. In this step, we will use Foursquare API to collect all data regarding venues (name, category, GPS coordinates, ratings and even photos). After collecting the data and organising into a pandas dataframe, we will have a table that show the top 10 venues for each department. \n",
    "\n",
    "The last task is to use unsupervised machine learning techniques to cluster them according to the most common venues and visualize all clusers using Folio library (Folium.map). \n",
    "\n",
    "\n",
    "\n",
    "\n",
    "\n"
   ]
  },
  {
   "cell_type": "markdown",
   "metadata": {},
   "source": [
    "#### Let's create a table containing all departments in Paris"
   ]
  },
  {
   "cell_type": "code",
   "execution_count": 1,
   "metadata": {},
   "outputs": [
    {
     "name": "stdout",
     "output_type": "stream",
     "text": [
      "Libraries imported.\n"
     ]
    }
   ],
   "source": [
    "import json\n",
    "import pandas as pd\n",
    "import numpy as np \n",
    "\n",
    "import requests # library to handle requests\n",
    "\n",
    "# tranforming json file into a pandas dataframe library\n",
    "from pandas.io.json import json_normalize\n",
    "\n",
    "# Matplotlib and associated plotting modules\n",
    "import matplotlib.pyplot as plt\n",
    "import matplotlib.cm as cm\n",
    "import matplotlib.colors as colors\n",
    "\n",
    "# import k-means from clustering stage\n",
    "from sklearn.cluster import KMeans\n",
    "\n",
    "#!conda install -c conda-forge folium=0.5.0 --yes # uncomment this line if you haven't completed the Foursquare API lab\n",
    "import folium # map rendering library\n",
    "\n",
    "print('Libraries imported.')\n"
   ]
  },
  {
   "cell_type": "markdown",
   "metadata": {},
   "source": [
    "### 1 Data description"
   ]
  },
  {
   "cell_type": "markdown",
   "metadata": {},
   "source": [
    "#### The data about Paris is available here "
   ]
  },
  {
   "cell_type": "code",
   "execution_count": 20,
   "metadata": {},
   "outputs": [
    {
     "data": {
      "text/html": [
       "<div>\n",
       "<style scoped>\n",
       "    .dataframe tbody tr th:only-of-type {\n",
       "        vertical-align: middle;\n",
       "    }\n",
       "\n",
       "    .dataframe tbody tr th {\n",
       "        vertical-align: top;\n",
       "    }\n",
       "\n",
       "    .dataframe thead th {\n",
       "        text-align: right;\n",
       "    }\n",
       "</style>\n",
       "<table border=\"1\" class=\"dataframe\">\n",
       "  <thead>\n",
       "    <tr style=\"text-align: right;\">\n",
       "      <th></th>\n",
       "      <th>datasetid</th>\n",
       "      <th>recordid</th>\n",
       "      <th>record_timestamp</th>\n",
       "      <th>fields.code_comm</th>\n",
       "      <th>fields.nom_dept</th>\n",
       "      <th>fields.statut</th>\n",
       "      <th>fields.z_moyen</th>\n",
       "      <th>fields.nom_region</th>\n",
       "      <th>fields.code_reg</th>\n",
       "      <th>fields.insee_com</th>\n",
       "      <th>...</th>\n",
       "      <th>fields.id_geofla</th>\n",
       "      <th>fields.code_cant</th>\n",
       "      <th>fields.geo_shape.type</th>\n",
       "      <th>fields.geo_shape.coordinates</th>\n",
       "      <th>fields.superficie</th>\n",
       "      <th>fields.nom_comm</th>\n",
       "      <th>fields.code_arr</th>\n",
       "      <th>fields.population</th>\n",
       "      <th>geometry.type</th>\n",
       "      <th>geometry.coordinates</th>\n",
       "    </tr>\n",
       "  </thead>\n",
       "  <tbody>\n",
       "    <tr>\n",
       "      <th>0</th>\n",
       "      <td>correspondances-code-insee-code-postal</td>\n",
       "      <td>2bf36b38314b6c39dfbcd09225f97fa532b1fc45</td>\n",
       "      <td>2016-09-21T00:29:06.175+02:00</td>\n",
       "      <td>645</td>\n",
       "      <td>ESSONNE</td>\n",
       "      <td>Commune simple</td>\n",
       "      <td>121.0</td>\n",
       "      <td>ILE-DE-FRANCE</td>\n",
       "      <td>11</td>\n",
       "      <td>91645</td>\n",
       "      <td>...</td>\n",
       "      <td>16275</td>\n",
       "      <td>03</td>\n",
       "      <td>Polygon</td>\n",
       "      <td>[[[2.238024349288764, 48.735565859837095], [2....</td>\n",
       "      <td>999.0</td>\n",
       "      <td>VERRIERES-LE-BUISSON</td>\n",
       "      <td>3</td>\n",
       "      <td>15.5</td>\n",
       "      <td>Point</td>\n",
       "      <td>[2.251712972144151, 48.750443119964764]</td>\n",
       "    </tr>\n",
       "    <tr>\n",
       "      <th>1</th>\n",
       "      <td>correspondances-code-insee-code-postal</td>\n",
       "      <td>7ee82e74e059b443df18bb79fc5a19b1f05e5a88</td>\n",
       "      <td>2016-09-21T00:29:06.175+02:00</td>\n",
       "      <td>133</td>\n",
       "      <td>SEINE-ET-MARNE</td>\n",
       "      <td>Commune simple</td>\n",
       "      <td>88.0</td>\n",
       "      <td>ILE-DE-FRANCE</td>\n",
       "      <td>11</td>\n",
       "      <td>77133</td>\n",
       "      <td>...</td>\n",
       "      <td>31428</td>\n",
       "      <td>20</td>\n",
       "      <td>Polygon</td>\n",
       "      <td>[[[3.076046701822989, 48.397361878531605], [3....</td>\n",
       "      <td>1082.0</td>\n",
       "      <td>COURCELLES-EN-BASSEE</td>\n",
       "      <td>3</td>\n",
       "      <td>0.2</td>\n",
       "      <td>Point</td>\n",
       "      <td>[3.052940505560729, 48.41256065214989]</td>\n",
       "    </tr>\n",
       "    <tr>\n",
       "      <th>2</th>\n",
       "      <td>correspondances-code-insee-code-postal</td>\n",
       "      <td>e2cd3186f07286705ed482a10b6aebd9de633c81</td>\n",
       "      <td>2016-09-21T00:29:06.175+02:00</td>\n",
       "      <td>378</td>\n",
       "      <td>ESSONNE</td>\n",
       "      <td>Commune simple</td>\n",
       "      <td>150.0</td>\n",
       "      <td>ILE-DE-FRANCE</td>\n",
       "      <td>11</td>\n",
       "      <td>91378</td>\n",
       "      <td>...</td>\n",
       "      <td>30975</td>\n",
       "      <td>09</td>\n",
       "      <td>Polygon</td>\n",
       "      <td>[[[2.203466690733517, 48.51655284725087], [2.1...</td>\n",
       "      <td>313.0</td>\n",
       "      <td>MAUCHAMPS</td>\n",
       "      <td>1</td>\n",
       "      <td>0.3</td>\n",
       "      <td>Point</td>\n",
       "      <td>[2.19718165044305, 48.52726809075556]</td>\n",
       "    </tr>\n",
       "    <tr>\n",
       "      <th>3</th>\n",
       "      <td>correspondances-code-insee-code-postal</td>\n",
       "      <td>868bf03527a1d0a9defe5cf4e6fa0a730d725699</td>\n",
       "      <td>2016-09-21T00:29:06.175+02:00</td>\n",
       "      <td>243</td>\n",
       "      <td>SEINE-ET-MARNE</td>\n",
       "      <td>Chef-lieu canton</td>\n",
       "      <td>71.0</td>\n",
       "      <td>ILE-DE-FRANCE</td>\n",
       "      <td>11</td>\n",
       "      <td>77243</td>\n",
       "      <td>...</td>\n",
       "      <td>17000</td>\n",
       "      <td>14</td>\n",
       "      <td>Polygon</td>\n",
       "      <td>[[[2.727542158243183, 48.85975862454365], [2.7...</td>\n",
       "      <td>579.0</td>\n",
       "      <td>LAGNY-SUR-MARNE</td>\n",
       "      <td>5</td>\n",
       "      <td>20.2</td>\n",
       "      <td>Point</td>\n",
       "      <td>[2.7097808131278462, 48.87307018579678]</td>\n",
       "    </tr>\n",
       "    <tr>\n",
       "      <th>4</th>\n",
       "      <td>correspondances-code-insee-code-postal</td>\n",
       "      <td>21e809b1d4480333c8b6fe7addd8f3b06f343e2c</td>\n",
       "      <td>2016-09-21T00:29:06.175+02:00</td>\n",
       "      <td>003</td>\n",
       "      <td>VAL-DE-MARNE</td>\n",
       "      <td>Chef-lieu canton</td>\n",
       "      <td>70.0</td>\n",
       "      <td>ILE-DE-FRANCE</td>\n",
       "      <td>11</td>\n",
       "      <td>94003</td>\n",
       "      <td>...</td>\n",
       "      <td>32123</td>\n",
       "      <td>34</td>\n",
       "      <td>Polygon</td>\n",
       "      <td>[[[2.34385114554979, 48.79766105911435], [2.32...</td>\n",
       "      <td>232.0</td>\n",
       "      <td>ARCUEIL</td>\n",
       "      <td>3</td>\n",
       "      <td>19.5</td>\n",
       "      <td>Point</td>\n",
       "      <td>[2.333510249842654, 48.80588035965699]</td>\n",
       "    </tr>\n",
       "  </tbody>\n",
       "</table>\n",
       "<p>5 rows × 23 columns</p>\n",
       "</div>"
      ],
      "text/plain": [
       "                                datasetid  \\\n",
       "0  correspondances-code-insee-code-postal   \n",
       "1  correspondances-code-insee-code-postal   \n",
       "2  correspondances-code-insee-code-postal   \n",
       "3  correspondances-code-insee-code-postal   \n",
       "4  correspondances-code-insee-code-postal   \n",
       "\n",
       "                                   recordid               record_timestamp  \\\n",
       "0  2bf36b38314b6c39dfbcd09225f97fa532b1fc45  2016-09-21T00:29:06.175+02:00   \n",
       "1  7ee82e74e059b443df18bb79fc5a19b1f05e5a88  2016-09-21T00:29:06.175+02:00   \n",
       "2  e2cd3186f07286705ed482a10b6aebd9de633c81  2016-09-21T00:29:06.175+02:00   \n",
       "3  868bf03527a1d0a9defe5cf4e6fa0a730d725699  2016-09-21T00:29:06.175+02:00   \n",
       "4  21e809b1d4480333c8b6fe7addd8f3b06f343e2c  2016-09-21T00:29:06.175+02:00   \n",
       "\n",
       "  fields.code_comm fields.nom_dept     fields.statut  fields.z_moyen  \\\n",
       "0              645         ESSONNE    Commune simple           121.0   \n",
       "1              133  SEINE-ET-MARNE    Commune simple            88.0   \n",
       "2              378         ESSONNE    Commune simple           150.0   \n",
       "3              243  SEINE-ET-MARNE  Chef-lieu canton            71.0   \n",
       "4              003    VAL-DE-MARNE  Chef-lieu canton            70.0   \n",
       "\n",
       "  fields.nom_region fields.code_reg fields.insee_com  ... fields.id_geofla  \\\n",
       "0     ILE-DE-FRANCE              11            91645  ...            16275   \n",
       "1     ILE-DE-FRANCE              11            77133  ...            31428   \n",
       "2     ILE-DE-FRANCE              11            91378  ...            30975   \n",
       "3     ILE-DE-FRANCE              11            77243  ...            17000   \n",
       "4     ILE-DE-FRANCE              11            94003  ...            32123   \n",
       "\n",
       "  fields.code_cant fields.geo_shape.type  \\\n",
       "0               03               Polygon   \n",
       "1               20               Polygon   \n",
       "2               09               Polygon   \n",
       "3               14               Polygon   \n",
       "4               34               Polygon   \n",
       "\n",
       "                        fields.geo_shape.coordinates fields.superficie  \\\n",
       "0  [[[2.238024349288764, 48.735565859837095], [2....             999.0   \n",
       "1  [[[3.076046701822989, 48.397361878531605], [3....            1082.0   \n",
       "2  [[[2.203466690733517, 48.51655284725087], [2.1...             313.0   \n",
       "3  [[[2.727542158243183, 48.85975862454365], [2.7...             579.0   \n",
       "4  [[[2.34385114554979, 48.79766105911435], [2.32...             232.0   \n",
       "\n",
       "        fields.nom_comm fields.code_arr  fields.population geometry.type  \\\n",
       "0  VERRIERES-LE-BUISSON               3               15.5         Point   \n",
       "1  COURCELLES-EN-BASSEE               3                0.2         Point   \n",
       "2             MAUCHAMPS               1                0.3         Point   \n",
       "3       LAGNY-SUR-MARNE               5               20.2         Point   \n",
       "4               ARCUEIL               3               19.5         Point   \n",
       "\n",
       "                      geometry.coordinates  \n",
       "0  [2.251712972144151, 48.750443119964764]  \n",
       "1   [3.052940505560729, 48.41256065214989]  \n",
       "2    [2.19718165044305, 48.52726809075556]  \n",
       "3  [2.7097808131278462, 48.87307018579678]  \n",
       "4   [2.333510249842654, 48.80588035965699]  \n",
       "\n",
       "[5 rows x 23 columns]"
      ]
     },
     "execution_count": 20,
     "metadata": {},
     "output_type": "execute_result"
    }
   ],
   "source": [
    "file = open('data/code-insee-code-postal.json', \"r\")\n",
    "text = file.read()\n",
    "text = json.loads(text)\n",
    "\n",
    "paris_bourough_df = pd.DataFrame(pd.json_normalize(text))\n",
    "paris_bourough_df.head()\n"
   ]
  },
  {
   "cell_type": "markdown",
   "metadata": {},
   "source": [
    "### 1.1 Explore Neighborhoods in Paris"
   ]
  },
  {
   "cell_type": "code",
   "execution_count": 21,
   "metadata": {},
   "outputs": [],
   "source": [
    "data = [paris_bourough_df['fields.nom_dept'],paris_bourough_df['fields.code_dept'],paris_bourough_df['fields.nom_comm'],paris_bourough_df['fields.superficie']/100,paris_bourough_df['geometry.coordinates']]\n",
    "\n",
    "headers = [\"Borough\", \"ZIPcode\", \"Neighborhood\", \"Area\", \"LongLat\"]\n",
    "\n",
    "df = pd.concat(data, axis=1, keys=headers)\n",
    "\n",
    "# Create new column Longitiud and Latitud\n",
    "\n",
    "df['Latitude'] = df['LongLat'].apply(lambda x: float(x[1]))\n",
    "df['Longitude'] = df['LongLat'].apply(lambda x: float(x[0]))\n",
    "df.drop('LongLat', inplace=True, axis=1)\n",
    "df.head()\n",
    "df_temp = df.head(100)"
   ]
  },
  {
   "cell_type": "markdown",
   "metadata": {},
   "source": [
    "#### Let's define a function that return all nearby venues in a neighborhood within a radius of 500m (we only get restaurant venues)"
   ]
  },
  {
   "cell_type": "code",
   "execution_count": 22,
   "metadata": {
    "tags": []
   },
   "outputs": [],
   "source": [
    "def getNearbyVenues(names, latitudes, longitudes, areas):\n",
    "    venues_list=[]\n",
    "    for name, lat, lng, area in zip(names, latitudes, longitudes, areas):\n",
    "        # create the API request URL\n",
    "        url = 'https://api.foursquare.com/v2/venues/explore?&client_id={}&client_secret={}&v={}&ll={},{}&radius={}&limit={}'.format(\n",
    "            CLIENT_ID, \n",
    "            CLIENT_SECRET, \n",
    "            VERSION, \n",
    "            lat, \n",
    "            lng, \n",
    "            np.sqrt(area/3.14) * 1000, \n",
    "            LIMIT)\n",
    "            \n",
    "        # make the GET request\n",
    "        results = requests.get(url).json()[\"response\"][\"groups\"][0][\"items\"]    \n",
    "        # return only relevant information for each nearby venue\n",
    "        venues_list.append([(\n",
    "            name, \n",
    "            lat, \n",
    "            lng, \n",
    "            v['venue']['name'], \n",
    "            v['venue']['location']['lat'], \n",
    "            v['venue']['location']['lng'],  \n",
    "            v['venue']['categories'][0]['name']) for v in results])\n",
    "\n",
    "    nearby_venues = pd.DataFrame([item for venue_list in venues_list for item in venue_list])\n",
    "    nearby_venues.columns = ['Neighborhood', \n",
    "                  'Neighborhood Latitude', \n",
    "                  'Neighborhood Longitude', \n",
    "                  'Venue', \n",
    "                  'Venue Latitude', \n",
    "                  'Venue Longitude', \n",
    "                  'Venue Category']\n",
    "    return(nearby_venues)\n"
   ]
  },
  {
   "cell_type": "markdown",
   "metadata": {},
   "source": [
    " #### Get all venues for each Neighborhood"
   ]
  },
  {
   "cell_type": "markdown",
   "metadata": {},
   "source": [
    "#### Run the above function on each neighborhood "
   ]
  },
  {
   "cell_type": "code",
   "execution_count": 24,
   "metadata": {
    "tags": []
   },
   "outputs": [
    {
     "ename": "KeyError",
     "evalue": "'groups'",
     "output_type": "error",
     "traceback": [
      "\u001b[0;31m---------------------------------------------------------------------------\u001b[0m",
      "\u001b[0;31mKeyError\u001b[0m                                  Traceback (most recent call last)",
      "\u001b[0;32m<ipython-input-24-68c385f480a4>\u001b[0m in \u001b[0;36m<module>\u001b[0;34m\u001b[0m\n\u001b[1;32m      4\u001b[0m \u001b[0mLIMIT\u001b[0m \u001b[0;34m=\u001b[0m \u001b[0;36m50\u001b[0m \u001b[0;31m# A default Foursquare API limit value\u001b[0m\u001b[0;34m\u001b[0m\u001b[0;34m\u001b[0m\u001b[0m\n\u001b[1;32m      5\u001b[0m \u001b[0;34m\u001b[0m\u001b[0m\n\u001b[0;32m----> 6\u001b[0;31m \u001b[0mparis_venues\u001b[0m \u001b[0;34m=\u001b[0m \u001b[0mgetNearbyVenues\u001b[0m\u001b[0;34m(\u001b[0m\u001b[0mdf_temp\u001b[0m\u001b[0;34m[\u001b[0m\u001b[0;34m'Neighborhood'\u001b[0m\u001b[0;34m]\u001b[0m\u001b[0;34m,\u001b[0m \u001b[0mdf_temp\u001b[0m\u001b[0;34m[\u001b[0m\u001b[0;34m'Latitude'\u001b[0m\u001b[0;34m]\u001b[0m\u001b[0;34m,\u001b[0m \u001b[0mdf_temp\u001b[0m\u001b[0;34m[\u001b[0m\u001b[0;34m'Longitude'\u001b[0m\u001b[0;34m]\u001b[0m\u001b[0;34m,\u001b[0m \u001b[0mdf_temp\u001b[0m\u001b[0;34m[\u001b[0m\u001b[0;34m'Area'\u001b[0m\u001b[0;34m]\u001b[0m\u001b[0;34m)\u001b[0m\u001b[0;34m\u001b[0m\u001b[0;34m\u001b[0m\u001b[0m\n\u001b[0m\u001b[1;32m      7\u001b[0m \u001b[0;34m\u001b[0m\u001b[0m\n\u001b[1;32m      8\u001b[0m \u001b[0mparis_venues\u001b[0m\u001b[0;34m.\u001b[0m\u001b[0mgroupby\u001b[0m\u001b[0;34m(\u001b[0m\u001b[0;34m'Neighborhood'\u001b[0m\u001b[0;34m)\u001b[0m\u001b[0;34m[\u001b[0m\u001b[0;34m'Venue'\u001b[0m\u001b[0;34m]\u001b[0m\u001b[0;34m.\u001b[0m\u001b[0mcount\u001b[0m\u001b[0;34m(\u001b[0m\u001b[0;34m)\u001b[0m\u001b[0;34m\u001b[0m\u001b[0;34m\u001b[0m\u001b[0m\n",
      "\u001b[0;32m<ipython-input-22-265f8fa517a1>\u001b[0m in \u001b[0;36mgetNearbyVenues\u001b[0;34m(names, latitudes, longitudes, areas)\u001b[0m\n\u001b[1;32m     13\u001b[0m \u001b[0;34m\u001b[0m\u001b[0m\n\u001b[1;32m     14\u001b[0m         \u001b[0;31m# make the GET request\u001b[0m\u001b[0;34m\u001b[0m\u001b[0;34m\u001b[0m\u001b[0;34m\u001b[0m\u001b[0m\n\u001b[0;32m---> 15\u001b[0;31m         \u001b[0mresults\u001b[0m \u001b[0;34m=\u001b[0m \u001b[0mrequests\u001b[0m\u001b[0;34m.\u001b[0m\u001b[0mget\u001b[0m\u001b[0;34m(\u001b[0m\u001b[0murl\u001b[0m\u001b[0;34m)\u001b[0m\u001b[0;34m.\u001b[0m\u001b[0mjson\u001b[0m\u001b[0;34m(\u001b[0m\u001b[0;34m)\u001b[0m\u001b[0;34m[\u001b[0m\u001b[0;34m\"response\"\u001b[0m\u001b[0;34m]\u001b[0m\u001b[0;34m[\u001b[0m\u001b[0;34m\"groups\"\u001b[0m\u001b[0;34m]\u001b[0m\u001b[0;34m[\u001b[0m\u001b[0;36m0\u001b[0m\u001b[0;34m]\u001b[0m\u001b[0;34m[\u001b[0m\u001b[0;34m\"items\"\u001b[0m\u001b[0;34m]\u001b[0m\u001b[0;34m\u001b[0m\u001b[0;34m\u001b[0m\u001b[0m\n\u001b[0m\u001b[1;32m     16\u001b[0m         \u001b[0;31m# return only relevant information for each nearby venue\u001b[0m\u001b[0;34m\u001b[0m\u001b[0;34m\u001b[0m\u001b[0;34m\u001b[0m\u001b[0m\n\u001b[1;32m     17\u001b[0m         venues_list.append([(\n",
      "\u001b[0;31mKeyError\u001b[0m: 'groups'"
     ]
    }
   ],
   "source": [
    "CLIENT_ID = 'CIYM54ZOILTJMGIZYSX2FREJZ1ENG0OCP4U03OM1ZSTVFB5H' # your Foursquare ID\n",
    "CLIENT_SECRET = 'KLWDZC0GN2HCV1NVJ2KHSTMTZHJYTKOC1Q5NNQ2TFALMPUGW' # your Foursquare Secret\n",
    "VERSION = '20210501' # Foursquare API version\n",
    "LIMIT = 50 # A default Foursquare API limit value\n",
    "\n",
    "paris_venues = getNearbyVenues(df_temp['Neighborhood'], df_temp['Latitude'], df_temp['Longitude'], df_temp['Area'])\n",
    "\n",
    "paris_venues.groupby('Neighborhood')['Venue'].count()\n"
   ]
  },
  {
   "cell_type": "markdown",
   "metadata": {},
   "source": [
    "#### Let's find out how many unique categories can be curated from all the returned venues"
   ]
  },
  {
   "cell_type": "code",
   "execution_count": 10,
   "metadata": {},
   "outputs": [
    {
     "ename": "NameError",
     "evalue": "name 'paris_venues' is not defined",
     "output_type": "error",
     "traceback": [
      "\u001b[0;31m---------------------------------------------------------------------------\u001b[0m",
      "\u001b[0;31mNameError\u001b[0m                                 Traceback (most recent call last)",
      "\u001b[0;32m<ipython-input-10-f3f7f53a4ff9>\u001b[0m in \u001b[0;36m<module>\u001b[0;34m\u001b[0m\n\u001b[0;32m----> 1\u001b[0;31m \u001b[0mprint\u001b[0m\u001b[0;34m(\u001b[0m\u001b[0;34m'There are {} uniques categories.'\u001b[0m\u001b[0;34m.\u001b[0m\u001b[0mformat\u001b[0m\u001b[0;34m(\u001b[0m\u001b[0mlen\u001b[0m\u001b[0;34m(\u001b[0m\u001b[0mparis_venues\u001b[0m\u001b[0;34m[\u001b[0m\u001b[0;34m'Venue Category'\u001b[0m\u001b[0;34m]\u001b[0m\u001b[0;34m.\u001b[0m\u001b[0munique\u001b[0m\u001b[0;34m(\u001b[0m\u001b[0;34m)\u001b[0m\u001b[0;34m)\u001b[0m\u001b[0;34m)\u001b[0m\u001b[0;34m)\u001b[0m\u001b[0;34m\u001b[0m\u001b[0;34m\u001b[0m\u001b[0m\n\u001b[0m",
      "\u001b[0;31mNameError\u001b[0m: name 'paris_venues' is not defined"
     ]
    }
   ],
   "source": [
    "print('There are {} uniques categories.'.format(len(paris_venues['Venue Category'].unique())))"
   ]
  },
  {
   "cell_type": "code",
   "execution_count": 9,
   "metadata": {},
   "outputs": [
    {
     "ename": "NameError",
     "evalue": "name 'paris_venues' is not defined",
     "output_type": "error",
     "traceback": [
      "\u001b[0;31m---------------------------------------------------------------------------\u001b[0m",
      "\u001b[0;31mNameError\u001b[0m                                 Traceback (most recent call last)",
      "\u001b[0;32m<ipython-input-9-618b71a3f7d5>\u001b[0m in \u001b[0;36m<module>\u001b[0;34m\u001b[0m\n\u001b[0;32m----> 1\u001b[0;31m \u001b[0mparis_venues\u001b[0m\u001b[0;34m.\u001b[0m\u001b[0mhead\u001b[0m\u001b[0;34m(\u001b[0m\u001b[0;34m)\u001b[0m\u001b[0;34m\u001b[0m\u001b[0;34m\u001b[0m\u001b[0m\n\u001b[0m",
      "\u001b[0;31mNameError\u001b[0m: name 'paris_venues' is not defined"
     ]
    }
   ],
   "source": [
    "paris_venues.head()"
   ]
  },
  {
   "cell_type": "markdown",
   "metadata": {},
   "source": [
    "### 1.2 Analyze each neighborhood"
   ]
  },
  {
   "cell_type": "code",
   "execution_count": null,
   "metadata": {},
   "outputs": [],
   "source": [
    "# one hot encoding\n",
    "paris_onehot = pd.get_dummies(paris_venues[['Venue Category']], prefix=\"\", prefix_sep=\"\")\n",
    "\n",
    "\n",
    "# Add neighborhood column back to dataframe\n",
    "paris_onehot['Neighborhood'] = paris_venues['Neighborhood'] \n",
    "\n",
    "\n",
    "# move neighborhood column to the first column\n",
    "first_column = paris_onehot.pop('Neighborhood')\n",
    "paris_onehot.insert(0,'Neighborhood',first_column)\n",
    "\n",
    "print (paris_onehot.shape) #New size\n",
    "paris_onehot.head()"
   ]
  },
  {
   "cell_type": "code",
   "execution_count": null,
   "metadata": {},
   "outputs": [],
   "source": [
    "paris_grouped = paris_onehot.groupby('Neighborhood').mean().reset_index()\n",
    "print (paris_grouped.shape) #New size\n",
    "paris_grouped.head(20)"
   ]
  },
  {
   "cell_type": "markdown",
   "metadata": {},
   "source": [
    "#### Let's group rows by neighborhood and by taking the mean of the frequency of occurrence of each category\n"
   ]
  },
  {
   "cell_type": "code",
   "execution_count": null,
   "metadata": {},
   "outputs": [],
   "source": [
    "num_top_venues = 5\n",
    "for hood in paris_grouped['Neighborhood']:\n",
    "    print(\"----\"+hood+\"----\")\n",
    "    temp = paris_grouped[paris_grouped['Neighborhood'] == hood].T.reset_index()\n",
    "    temp.columns = ['venue','freq']\n",
    "    temp = temp.iloc[1:]\n",
    "    temp['freq'] = temp['freq'].astype(float)\n",
    "    temp = temp.round({'freq': 2})\n",
    "    print(temp.sort_values('freq', ascending=False).reset_index(drop=True).head(num_top_venues))\n",
    "    print('\\n')\n"
   ]
  },
  {
   "cell_type": "markdown",
   "metadata": {
    "tags": []
   },
   "source": [
    "#### Let's put that into a panda dataframe"
   ]
  },
  {
   "cell_type": "markdown",
   "metadata": {},
   "source": [
    "First, let's write a function to sort the venues in descending order."
   ]
  },
  {
   "cell_type": "code",
   "execution_count": null,
   "metadata": {},
   "outputs": [],
   "source": [
    "def return_most_common_venues(row, num_top_venues):\n",
    "    row_categories = row.iloc[1:]\n",
    "    row_categories_sorted = row_categories.sort_values(ascending=False)\n",
    "    \n",
    "    return row_categories_sorted.index.values[0:num_top_venues]"
   ]
  },
  {
   "cell_type": "markdown",
   "metadata": {},
   "source": [
    "Now let's create the new dataframe and display the top 10 venues for each neighborhood.\n"
   ]
  },
  {
   "cell_type": "code",
   "execution_count": null,
   "metadata": {},
   "outputs": [],
   "source": [
    "num_top_venues = 10\n",
    "\n",
    "indicators = ['st', 'nd', 'rd']\n",
    "\n",
    "# create columns according to number of top venues\n",
    "columns = ['Neighborhood']\n",
    "for ind in np.arange(num_top_venues):\n",
    "    try:\n",
    "        columns.append('{}{} Most Common Venue'.format(ind+1, indicators[ind]))\n",
    "    except:\n",
    "        columns.append('{}th Most Common Venue'.format(ind+1))\n",
    "\n",
    "# create a new dataframe\n",
    "neighborhoods_venues_sorted = pd.DataFrame(columns=columns)\n",
    "neighborhoods_venues_sorted['Neighborhood'] = paris_grouped['Neighborhood']\n",
    "\n",
    "for ind in np.arange(paris_grouped.shape[0]):\n",
    "    neighborhoods_venues_sorted.iloc[ind, 1:] = return_most_common_venues(paris_grouped.iloc[ind, :], num_top_venues)\n",
    "\n",
    "neighborhoods_venues_sorted.head()"
   ]
  },
  {
   "cell_type": "markdown",
   "metadata": {},
   "source": [
    "## 3.\tCluster Neighborhood"
   ]
  },
  {
   "cell_type": "markdown",
   "metadata": {},
   "source": [
    "Run _k_-means to cluster the neighborhood into 5 clusters."
   ]
  },
  {
   "cell_type": "markdown",
   "metadata": {},
   "source": [
    "Let's find first the best k using the Elbow method"
   ]
  },
  {
   "cell_type": "code",
   "execution_count": null,
   "metadata": {},
   "outputs": [],
   "source": [
    "# Function Calculate the Within-Cluster-Sum of Squared Errors (WSS) for different values of l \n",
    "def calculate_WSS(points, kmax):\n",
    "  sse = []\n",
    "  for k in range(1, kmax+1):\n",
    "    kmeans = KMeans(n_clusters = k).fit(points)\n",
    "    centroids = kmeans.cluster_centers_\n",
    "    pred_clusters = kmeans.predict(points)\n",
    "    curr_sse = 0\n",
    "    \n",
    "    # calculate square of Euclidean distance of each point from its cluster center and add to current WSS\n",
    "    for i in range(len(points)):\n",
    "      curr_center = centroids[pred_clusters[i]]\n",
    "      curr_sse += (points.iloc[i, 0] - curr_center[0]) ** 2 + (points.iloc[i, 1] - curr_center[1]) ** 2\n",
    "      \n",
    "    sse.append(curr_sse)\n",
    "    plt.plot(range(1,kmax),sse,'g')\n",
    "    plt.tight_layout()\n",
    "    plt.show()\n",
    "  return sse"
   ]
  },
  {
   "cell_type": "code",
   "execution_count": 25,
   "metadata": {},
   "outputs": [
    {
     "ename": "NameError",
     "evalue": "name 'paris_grouped_clustering' is not defined",
     "output_type": "error",
     "traceback": [
      "\u001b[0;31m---------------------------------------------------------------------------\u001b[0m",
      "\u001b[0;31mNameError\u001b[0m                                 Traceback (most recent call last)",
      "\u001b[0;32m<ipython-input-25-07f00b6d8e83>\u001b[0m in \u001b[0;36m<module>\u001b[0;34m\u001b[0m\n\u001b[1;32m      2\u001b[0m \u001b[0;32mfor\u001b[0m \u001b[0mi\u001b[0m \u001b[0;32min\u001b[0m \u001b[0mrange\u001b[0m\u001b[0;34m(\u001b[0m\u001b[0;36m1\u001b[0m\u001b[0;34m,\u001b[0m \u001b[0;36m7\u001b[0m\u001b[0;34m)\u001b[0m\u001b[0;34m:\u001b[0m\u001b[0;34m\u001b[0m\u001b[0;34m\u001b[0m\u001b[0m\n\u001b[1;32m      3\u001b[0m     \u001b[0mkmeans\u001b[0m \u001b[0;34m=\u001b[0m \u001b[0mKMeans\u001b[0m\u001b[0;34m(\u001b[0m\u001b[0mn_clusters\u001b[0m\u001b[0;34m=\u001b[0m\u001b[0mi\u001b[0m\u001b[0;34m,\u001b[0m \u001b[0minit\u001b[0m\u001b[0;34m=\u001b[0m\u001b[0;34m'k-means++'\u001b[0m\u001b[0;34m,\u001b[0m \u001b[0mmax_iter\u001b[0m\u001b[0;34m=\u001b[0m\u001b[0;36m300\u001b[0m\u001b[0;34m,\u001b[0m \u001b[0mn_init\u001b[0m\u001b[0;34m=\u001b[0m\u001b[0;36m10\u001b[0m\u001b[0;34m,\u001b[0m \u001b[0mrandom_state\u001b[0m\u001b[0;34m=\u001b[0m\u001b[0;36m0\u001b[0m\u001b[0;34m)\u001b[0m\u001b[0;34m\u001b[0m\u001b[0;34m\u001b[0m\u001b[0m\n\u001b[0;32m----> 4\u001b[0;31m     \u001b[0mkmeans\u001b[0m\u001b[0;34m.\u001b[0m\u001b[0mfit\u001b[0m\u001b[0;34m(\u001b[0m\u001b[0mparis_grouped_clustering\u001b[0m\u001b[0;34m)\u001b[0m\u001b[0;34m\u001b[0m\u001b[0;34m\u001b[0m\u001b[0m\n\u001b[0m\u001b[1;32m      5\u001b[0m     \u001b[0mwcss\u001b[0m\u001b[0;34m.\u001b[0m\u001b[0mappend\u001b[0m\u001b[0;34m(\u001b[0m\u001b[0mkmeans\u001b[0m\u001b[0;34m.\u001b[0m\u001b[0minertia_\u001b[0m\u001b[0;34m)\u001b[0m\u001b[0;34m\u001b[0m\u001b[0;34m\u001b[0m\u001b[0m\n\u001b[1;32m      6\u001b[0m \u001b[0mplt\u001b[0m\u001b[0;34m.\u001b[0m\u001b[0mplot\u001b[0m\u001b[0;34m(\u001b[0m\u001b[0mrange\u001b[0m\u001b[0;34m(\u001b[0m\u001b[0;36m1\u001b[0m\u001b[0;34m,\u001b[0m \u001b[0;36m7\u001b[0m\u001b[0;34m)\u001b[0m\u001b[0;34m,\u001b[0m \u001b[0mwcss\u001b[0m\u001b[0;34m)\u001b[0m\u001b[0;34m\u001b[0m\u001b[0;34m\u001b[0m\u001b[0m\n",
      "\u001b[0;31mNameError\u001b[0m: name 'paris_grouped_clustering' is not defined"
     ]
    }
   ],
   "source": [
    "wcss = []\n",
    "for i in range(1, 7):\n",
    "    kmeans = KMeans(n_clusters=i, init='k-means++', max_iter=300, n_init=10, random_state=0)\n",
    "    kmeans.fit(paris_grouped_clustering)\n",
    "    wcss.append(kmeans.inertia_)\n",
    "plt.plot(range(1, 7), wcss)\n",
    "plt.title('Elbow Method')\n",
    "plt.xlabel('Number of clusters')\n",
    "plt.ylabel('WCSS')\n",
    "plt.show()\n"
   ]
  },
  {
   "cell_type": "markdown",
   "metadata": {},
   "source": [
    "#### As we can see on the plot. We can use k=4 to build our Kmeans clustering Algorithm "
   ]
  },
  {
   "cell_type": "code",
   "execution_count": null,
   "metadata": {},
   "outputs": [],
   "source": [
    "# set number of clusters\n",
    "kclusters = 4\n",
    "\n",
    "paris_grouped_clustering = paris_grouped.drop('Neighborhood', 1)\n",
    "\n",
    "# run k-means clustering\n",
    "kmeans = KMeans(n_clusters=kclusters, random_state=0).fit(paris_grouped_clustering)\n",
    "\n",
    "# check cluster labels generated for each row in the dataframe\n",
    "print(kmeans.labels_[0:10])\n"
   ]
  },
  {
   "cell_type": "markdown",
   "metadata": {},
   "source": [
    "Let's create a new dataframe that includes the cluster as well as the top 10 venues for each neighborhood."
   ]
  },
  {
   "cell_type": "code",
   "execution_count": null,
   "metadata": {},
   "outputs": [],
   "source": [
    "# add clustering labels\n",
    "neighborhoods_venues_sorted.insert(0, 'Cluster Labels', kmeans.labels_)\n",
    "paris_merged = df_temp\n",
    "\n",
    "# merge paris_grouped with paris_data to add latitude/longitude for each neighborhood\n",
    "paris_merged = paris_merged.join(neighborhoods_venues_sorted.set_index('Neighborhood'), on='Neighborhood')\n",
    "paris_merged.head(30) # check the last columns!\n"
   ]
  },
  {
   "cell_type": "markdown",
   "metadata": {},
   "source": [
    "Let's drop rows with NaN values "
   ]
  },
  {
   "cell_type": "code",
   "execution_count": null,
   "metadata": {},
   "outputs": [],
   "source": [
    "paris_merged = paris_merged.dropna()\n"
   ]
  },
  {
   "cell_type": "code",
   "execution_count": null,
   "metadata": {},
   "outputs": [],
   "source": [
    "!conda install -c conda-forge geopy --yes # uncomment this line to install geopy\n",
    "from geopy.geocoders import Nominatim # convert an address into latitude and longitude values\n",
    "\n",
    "#!conda install -c conda-forge folium=0.5.0 --yes # uncomment this line if you haven't completed the Foursquare API lab\n",
    "import folium # map rendering library\n",
    "\n",
    "print('Libraries imported.')\n",
    "address = 'Paris, France'\n",
    "\n",
    "geolocator = Nominatim(user_agent=\"ny_explorer\")\n",
    "location = geolocator.geocode(address)\n",
    "latitude = location.latitude\n",
    "longitude = location.longitude\n",
    "print('The geograpical coordinate of Paris are {}, {}.'.format(latitude, longitude))\n",
    "\n",
    "\n"
   ]
  },
  {
   "cell_type": "code",
   "execution_count": null,
   "metadata": {},
   "outputs": [],
   "source": [
    "# create map\n",
    "map_clusters = folium.Map(location=[latitude, longitude], zoom_start=11)\n",
    "# set color scheme for the clusters\n",
    "x = np.arange(kclusters)\n",
    "ys = [i + x + (i*x)**2 for i in range(kclusters)]\n",
    "colors_array = cm.rainbow(np.linspace(0, 1, len(ys)))\n",
    "rainbow = [colors.rgb2hex(i) for i in colors_array]\n",
    "\n",
    "paris_merged['Cluster Labels'] =paris_merged['Cluster Labels'].astype(int)\n",
    "\n",
    "# add markers to the map\n",
    "markers_colors = []\n",
    "for lat, lon, poi, cluster in zip(paris_merged['Latitude'], paris_merged['Longitude'], paris_merged['Neighborhood'], paris_merged['Cluster Labels']):\n",
    "    label = folium.Popup(str(poi) + ' Cluster ' + str(cluster), parse_html=True)\n",
    "    folium.CircleMarker(\n",
    "        [lat, lon],\n",
    "        radius=5,\n",
    "        popup=label,\n",
    "        color=rainbow[cluster-1],\n",
    "        fill=True,\n",
    "        fill_color=rainbow[cluster-1],\n",
    "        fill_opacity=0.7).add_to(map_clusters)\n",
    "\n",
    "map_clusters"
   ]
  },
  {
   "cell_type": "code",
   "execution_count": null,
   "metadata": {},
   "outputs": [],
   "source": []
  },
  {
   "cell_type": "code",
   "execution_count": null,
   "metadata": {},
   "outputs": [],
   "source": []
  }
 ],
 "metadata": {
  "kernelspec": {
   "display_name": "Python",
   "language": "python",
   "name": "conda-env-python-py"
  },
  "language_info": {
   "codemirror_mode": {
    "name": "ipython",
    "version": 3
   },
   "file_extension": ".py",
   "mimetype": "text/x-python",
   "name": "python",
   "nbconvert_exporter": "python",
   "pygments_lexer": "ipython3",
   "version": "3.6.13"
  }
 },
 "nbformat": 4,
 "nbformat_minor": 4
}
